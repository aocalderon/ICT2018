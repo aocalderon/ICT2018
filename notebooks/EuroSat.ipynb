{
 "cells": [
  {
   "cell_type": "code",
   "execution_count": 24,
   "metadata": {},
   "outputs": [],
   "source": [
    "import numpy as np\n",
    "import rasterio\n",
    "from sklearn.preprocessing import normalize"
   ]
  },
  {
   "cell_type": "code",
   "execution_count": 170,
   "metadata": {},
   "outputs": [],
   "source": [
    "with rasterio.open(r'H:\\data\\EuroSATallBands\\ds\\images\\remote_sensing\\otherDatasets\\sentinel_2\\tif\\AnnualCrop\\AnnualCrop_1.tif', 'r+') as r:\n",
    "    image = r.read().astype('float32') \n",
    "    for j in np.arange(image.shape[0]):\n",
    "        image[j] = normalize(image[j,:,:], norm='max')\n"
   ]
  },
  {
   "cell_type": "code",
   "execution_count": 171,
   "metadata": {},
   "outputs": [
    {
     "data": {
      "text/plain": [
       "(13, 64, 64)"
      ]
     },
     "execution_count": 171,
     "metadata": {},
     "output_type": "execute_result"
    }
   ],
   "source": [
    "image.shape"
   ]
  },
  {
   "cell_type": "code",
   "execution_count": 172,
   "metadata": {},
   "outputs": [
    {
     "data": {
      "text/plain": [
       "array([[0.92774963, 0.92774963, 0.91992635, ..., 0.62954444, 0.64012885,\n",
       "        0.6171192 ],\n",
       "       [0.92774963, 0.92774963, 0.91992635, ..., 0.62954444, 0.64012885,\n",
       "        0.6171192 ],\n",
       "       [0.8945921 , 0.8945921 , 0.89963335, ..., 0.6296975 , 0.63565534,\n",
       "        0.6209899 ],\n",
       "       ...,\n",
       "       [1.        , 1.        , 0.9255692 , ..., 0.58099824, 0.5753065 ,\n",
       "        0.5836252 ],\n",
       "       [1.        , 1.        , 0.92304146, ..., 0.6511521 , 0.63963133,\n",
       "        0.6465438 ],\n",
       "       [1.        , 1.        , 0.86374134, ..., 0.6605081 , 0.6531178 ,\n",
       "        0.6595843 ]], dtype=float32)"
      ]
     },
     "execution_count": 172,
     "metadata": {},
     "output_type": "execute_result"
    }
   ],
   "source": [
    "image[7]"
   ]
  },
  {
   "cell_type": "code",
   "execution_count": 167,
   "metadata": {},
   "outputs": [
    {
     "data": {
      "text/plain": [
       "(-0.5, 63.5, 63.5, -0.5)"
      ]
     },
     "execution_count": 167,
     "metadata": {},
     "output_type": "execute_result"
    },
    {
     "data": {
      "image/png": "[encoded data removed]",
      "text/plain": [
       "<Figure size 432x288 with 1 Axes>"
      ]
     },
     "metadata": {},
     "output_type": "display_data"
    }
   ],
   "source": [
    "sample = image[[7,3,2],:,:]\n",
    "sample = np.transpose(sample, [1,2,0])\n",
    "plt.imshow(sample)\n",
    "plt.axis('off')\n"
   ]
  },
  {
   "cell_type": "code",
   "execution_count": 168,
   "metadata": {},
   "outputs": [
    {
     "data": {
      "text/plain": [
       "(-0.5, 63.5, 63.5, -0.5)"
      ]
     },
     "execution_count": 168,
     "metadata": {},
     "output_type": "execute_result"
    },
    {
     "data": {
      "image/png": "[encoded data removed]",
      "text/plain": [
       "<Figure size 432x288 with 1 Axes>"
      ]
     },
     "metadata": {},
     "output_type": "display_data"
    }
   ],
   "source": [
    "sample = image[[3,2,1],:,:] \n",
    "sample = np.transpose(sample, [1,2,0])\n",
    "plt.imshow(sample)\n",
    "plt.axis('off')"
   ]
  },
  {
   "cell_type": "code",
   "execution_count": 211,
   "metadata": {},
   "outputs": [],
   "source": [
    "import os\n",
    "from glob import glob\n",
    "\n",
    "path = r\"H:\\data\\EuroSATallBands\\ds\\images\\remote_sensing\\otherDatasets\\sentinel_2\\tif\"\n",
    "geotiffs = [y for x in os.walk(path) for y in glob(os.path.join(x[0], '*.tif'))]"
   ]
  },
  {
   "cell_type": "code",
   "execution_count": 212,
   "metadata": {},
   "outputs": [
    {
     "data": {
      "text/plain": [
       "27000"
      ]
     },
     "execution_count": 212,
     "metadata": {},
     "output_type": "execute_result"
    }
   ],
   "source": [
    "len(geotiffs)"
   ]
  },
  {
   "cell_type": "code",
   "execution_count": 213,
   "metadata": {},
   "outputs": [],
   "source": [
    "from numpy import zeros, newaxis\n",
    "\n",
    "x = zeros((13, 64, 64,1))\n",
    "batch = zeros((13, 64, 64, len(geotiffs)))\n",
    "i = 0"
   ]
  },
  {
   "cell_type": "code",
   "execution_count": null,
   "metadata": {},
   "outputs": [],
   "source": [
    "for geotiff in geotiffs:\n",
    "    with rasterio.open(geotiff, 'r+') as g:\n",
    "        image = g.read().astype('float32') \n",
    "        for j in np.arange(image.shape[0]):\n",
    "            image[j] = normalize(image[j,:,:], norm='max')\n",
    "        #batch = np.append(batch, image[..., newaxis], axis=3)\n",
    "        batch[:,:,:,i] = image\n",
    "        i = i + 1"
   ]
  },
  {
   "cell_type": "code",
   "execution_count": 209,
   "metadata": {},
   "outputs": [
    {
     "data": {
      "text/plain": [
       "(13, 64, 64, 3)"
      ]
     },
     "execution_count": 209,
     "metadata": {},
     "output_type": "execute_result"
    }
   ],
   "source": [
    "batch.shape"
   ]
  },
  {
   "cell_type": "code",
   "execution_count": null,
   "metadata": {},
   "outputs": [],
   "source": []
  }
 ],
 "metadata": {
  "kernelspec": {
   "display_name": "tensorflow",
   "language": "python",
   "name": "tensorflow"
  },
  "language_info": {
   "codemirror_mode": {
    "name": "ipython",
    "version": 3
   },
   "file_extension": ".py",
   "mimetype": "text/x-python",
   "name": "python",
   "nbconvert_exporter": "python",
   "pygments_lexer": "ipython3",
   "version": "3.6.6"
  }
 },
 "nbformat": 4,
 "nbformat_minor": 2
}
