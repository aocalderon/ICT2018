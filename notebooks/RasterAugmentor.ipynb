{
 "cells": [
  {
   "cell_type": "code",
   "execution_count": 16,
   "metadata": {},
   "outputs": [],
   "source": [
    "import os, glob\n",
    "import numpy as np\n",
    "import rasterio\n",
    "import matplotlib.pyplot as plt\n",
    "from PIL import Image"
   ]
  },
  {
   "cell_type": "code",
   "execution_count": null,
   "metadata": {},
   "outputs": [],
   "source": [
    "input_dir  = r\"H:\\data\\EuroSATallBands\\ds\\images\\remote_sensing\\otherDatasets\\sentinel_2\\tif\\\\\"\n",
    "output_dir = r\"H:\\data\\SR\\FSRCNN\\EuroSAT\\\\\"\n",
    "covers = [\"AnnualCrop\", \"Forest\", \"HerbaceousVegetation\", \"Highway\", \"Industrial\", \"Pasture\", \"PermanentCrop\", \"Residential\", \"River\", \"SeaLake\"]\n",
    "count = 1\n",
    "#covers = covers[2:4]\n",
    "for cover in covers:\n",
    "    filenames = glob.glob(os.path.join(input_dir, cover, \"*.tif\"))\n",
    "    #filenames = filenames[0:2]\n",
    "    for filename in filenames:\n",
    "        with rasterio.open(filename, 'r+') as r:\n",
    "            image = r.read().astype('float32')\n",
    "            ir = image[7]\n",
    "            imin, imax = np.percentile(ir, [1,99])\n",
    "            ir[ir > imax] = imax\n",
    "            ir[ir < imin] = imin\n",
    "            ir = (ir - imin) / (imax - imin)\n",
    "            I = Image.fromarray((ir * 255).astype(np.uint8))\n",
    "            I.save(os.path.join(output_dir, \"EU_{}.bmp\".format(count)))\n",
    "            count = count + 1"
   ]
  },
  {
   "cell_type": "code",
   "execution_count": 6,
   "metadata": {},
   "outputs": [
    {
     "data": {
      "text/plain": [
       "(64, 64)"
      ]
     },
     "execution_count": 6,
     "metadata": {},
     "output_type": "execute_result"
    }
   ],
   "source": [
    "ir.shape"
   ]
  },
  {
   "cell_type": "code",
   "execution_count": 9,
   "metadata": {},
   "outputs": [
    {
     "data": {
      "text/plain": [
       "<matplotlib.image.AxesImage at 0x18b49945080>"
      ]
     },
     "execution_count": 9,
     "metadata": {},
     "output_type": "execute_result"
    },
    {
     "data": {
      "image/png": "[encoded data removed]",
      "text/plain": [
       "<Figure size 432x288 with 1 Axes>"
      ]
     },
     "metadata": {},
     "output_type": "display_data"
    }
   ],
   "source": [
    "plt.imshow(ir, cmap=\"Greys\")"
   ]
  },
  {
   "cell_type": "code",
   "execution_count": 10,
   "metadata": {},
   "outputs": [
    {
     "data": {
      "text/plain": [
       "array([[0.5422911 , 0.5422911 , 0.53057706, ..., 0.0957795 , 0.11162791,\n",
       "        0.07717485],\n",
       "       [0.5422911 , 0.5422911 , 0.53057706, ..., 0.0957795 , 0.11162791,\n",
       "        0.07717485],\n",
       "       [0.4981912 , 0.4981912 , 0.50577086, ..., 0.09991387, 0.10887166,\n",
       "        0.08682171],\n",
       "       ...,\n",
       "       [0.7269595 , 0.7269595 , 0.6098191 , ..., 0.06752799, 0.0585702 ,\n",
       "        0.07166236],\n",
       "       [0.64840657, 0.64840657, 0.53333336, ..., 0.12678725, 0.10956072,\n",
       "        0.11989664],\n",
       "       [0.64496124, 0.64496124, 0.4416882 , ..., 0.13850129, 0.12747632,\n",
       "        0.13712317]], dtype=float32)"
      ]
     },
     "execution_count": 10,
     "metadata": {},
     "output_type": "execute_result"
    }
   ],
   "source": [
    "ir"
   ]
  },
  {
   "cell_type": "code",
   "execution_count": null,
   "metadata": {},
   "outputs": [],
   "source": []
  }
 ],
 "metadata": {
  "kernelspec": {
   "display_name": "tensorflow",
   "language": "python",
   "name": "tensorflow"
  },
  "language_info": {
   "codemirror_mode": {
    "name": "ipython",
    "version": 3
   },
   "file_extension": ".py",
   "mimetype": "text/x-python",
   "name": "python",
   "nbconvert_exporter": "python",
   "pygments_lexer": "ipython3",
   "version": "3.6.6"
  }
 },
 "nbformat": 4,
 "nbformat_minor": 2
}
